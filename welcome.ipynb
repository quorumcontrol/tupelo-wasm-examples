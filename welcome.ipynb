{
 "cells": [
  {
   "cell_type": "code",
   "execution_count": 1,
   "metadata": {},
   "outputs": [],
   "source": [
    "// This is all just boilerplate, nothing to see here :).\n",
    "import * as tslab from 'tslab';\n",
    "import rimraf from 'rimraf';\n",
    "try {\n",
    "    rimraf.sync(\"./default\")\n",
    "} catch(e) {\n",
    "    // do nothing here\n",
    "}"
   ]
  },
  {
   "cell_type": "markdown",
   "metadata": {},
   "source": [
    "# Using Tupelo\n",
    "In this exmaple we'll walk through a few concepts of using Tupelo using the tupelo-wasm-sdk (TODO: link). There is also a go sdk evailable (TODO: link). \n",
    "\n",
    "This javascript SDK can be used in both the browser and nodejs. \n",
    "\n",
    "Let's do a bit of setup work:"
   ]
  },
  {
   "cell_type": "code",
   "execution_count": 2,
   "metadata": {},
   "outputs": [],
   "source": [
    "import { ChainTree, Community, EcdsaKey, setDataTransaction } from 'tupelo-wasm-sdk'"
   ]
  },
  {
   "cell_type": "markdown",
   "metadata": {},
   "source": [
    "## Networking & Community\n",
    "\n",
    "The Community object is how the local client talks to the network. You'll need one of these to play your transactions. There's a default (currently the testnet) provided for you."
   ]
  },
  {
   "cell_type": "code",
   "execution_count": 3,
   "metadata": {},
   "outputs": [],
   "source": [
    "const community = await Community.getDefault()"
   ]
  },
  {
   "cell_type": "markdown",
   "metadata": {},
   "source": [
    "## ChainTrees\n",
    "\n",
    "ChainTrees are the very first thing to understand about Tupelo. They are used to represent every object in the system. They can hold arbitrary data and are owned by one or more owners (represented by public/private key pairs).\n",
    "\n",
    "A ChainTree is a tree of current state and all the updates that lead up to that state (a blockchain). A blank ChainTree has a root node, an an empty tree, and an empty chain. This is what we call the genesis state. It's a fresh ChainTree that only lives on this machine.\n",
    "\n",
    "[![](https://mermaid.ink/img/eyJjb2RlIjoiY2xhc3NEaWFncmFtXG5cdFJvb3QgPHwtLSBDaGFpblxuXHRSb290IDx8LS0gVHJlZVxuXHRjbGFzcyBSb290IHtcbiAgICBpZDogZGlkOnR1cGVsbzp4eHhcblx0fVxuXHRjbGFzcyBDaGFpbntcblx0XHRlbXB0eVxuXHR9XG5cdGNsYXNzIFRyZWV7XG5cdFx0ZW1wdHlcblx0fVxuXHRcdFx0XHRcdCIsIm1lcm1haWQiOnsidGhlbWUiOiJkZWZhdWx0In0sInVwZGF0ZUVkaXRvciI6ZmFsc2V9)](https://mermaid-js.github.io/mermaid-live-editor/#/edit/eyJjb2RlIjoiY2xhc3NEaWFncmFtXG5cdFJvb3QgPHwtLSBDaGFpblxuXHRSb290IDx8LS0gVHJlZVxuXHRjbGFzcyBSb290IHtcbiAgICBpZDogZGlkOnR1cGVsbzp4eHhcblx0fVxuXHRjbGFzcyBDaGFpbntcblx0XHRlbXB0eVxuXHR9XG5cdGNsYXNzIFRyZWV7XG5cdFx0ZW1wdHlcblx0fVxuXHRcdFx0XHRcdCIsIm1lcm1haWQiOnsidGhlbWUiOiJkZWZhdWx0In0sInVwZGF0ZUVkaXRvciI6ZmFsc2V9)\n",
    "\n",
    "Let's create a ChainTree now.\n",
    "\n",
    "First we create a key:"
   ]
  },
  {
   "cell_type": "code",
   "execution_count": 4,
   "metadata": {},
   "outputs": [],
   "source": [
    "const key = await EcdsaKey.generate()"
   ]
  },
  {
   "cell_type": "markdown",
   "metadata": {},
   "source": [
    "Then we create a brand new ChainTree:"
   ]
  },
  {
   "cell_type": "code",
   "execution_count": 5,
   "metadata": {},
   "outputs": [],
   "source": [
    "const tree = await ChainTree.newEmptyTree(community.blockservice, key)"
   ]
  },
  {
   "cell_type": "markdown",
   "metadata": {},
   "source": [
    "An empty tree doesn't have much data in it, but it already has a did and a root node. You can traverse a ChainTree using either `resolve` or `resolveData`. We'll get to resolveData in a second."
   ]
  },
  {
   "cell_type": "code",
   "execution_count": 6,
   "metadata": {},
   "outputs": [
    {
     "name": "stdout",
     "output_type": "stream",
     "text": [
      "id:  did:tupelo:0x60DdeA46407382bC9340B20326111Ac8D21Fc95E\n",
      "{\n",
      "  remainderPath: [],\n",
      "  value: {\n",
      "    id: \u001b[32m'did:tupelo:0x60DdeA46407382bC9340B20326111Ac8D21Fc95E'\u001b[39m,\n",
      "    tree: CID(bafyreigbtj4x7ip5legnfznufuopl4sg4knzc2cof6duas4b3q2fy6swua),\n",
      "    chain: CID(bafyreigbtj4x7ip5legnfznufuopl4sg4knzc2cof6duas4b3q2fy6swua)\n",
      "  }\n",
      "}\n"
     ]
    }
   ],
   "source": [
    "console.log(\"id: \", await tree.id())\n",
    "console.log(await tree.resolve(\"/\"))"
   ]
  },
  {
   "cell_type": "markdown",
   "metadata": {},
   "source": [
    "Take a look at the results above. You see that a ChainTree has a unique ID called a DID. This DID is based on the key that creates the ChainTree (in this case the `key` we created above).\n",
    "\n",
    "When you see a value prefaced by `CID` that means it's a *link* to another node. You can resolve through those links using the `resolve` method on a tree. As we said above, this is a genesis ChainTree so there isn't much in there:"
   ]
  },
  {
   "cell_type": "code",
   "execution_count": 7,
   "metadata": {},
   "outputs": [
    {
     "name": "stdout",
     "output_type": "stream",
     "text": [
      "tree:  {}\n",
      "chain:  {}\n"
     ]
    }
   ],
   "source": [
    "console.log(\"tree: \", (await tree.resolve(\"/tree\")).value)\n",
    "console.log(\"chain: \", (await tree.resolve(\"/chain\")).value)"
   ]
  },
  {
   "cell_type": "markdown",
   "metadata": {},
   "source": [
    "### Transactions\n",
    "\n",
    "You interact with ChainTrees by playing transactions. The simplest transaction is the setData transaction."
   ]
  },
  {
   "cell_type": "code",
   "execution_count": 8,
   "metadata": {},
   "outputs": [
    {
     "name": "stdout",
     "output_type": "stream",
     "text": [
      "tree:  {\n",
      "  data: CID(bafyreiblaotetvwobe7cu2uqvnddr6ew2q3cu75qsoweulzku2egca4dxq)\n",
      "}\n",
      "tree/data:  { foo: \u001b[32m'bar'\u001b[39m }\n",
      "chain:  {\n",
      "  end: CID(bafyreiagfqchwf6nypsnv62inum24wd2ipq5gb5vvy52j76bihork7cv5e)\n",
      "}\n"
     ]
    }
   ],
   "source": [
    "await community.playTransactions(tree, [setDataTransaction(\"/foo\", \"bar\")])\n",
    "console.log(\"tree: \", (await tree.resolve(\"/tree\")).value)\n",
    "console.log(\"tree/data: \", (await tree.resolve(\"/tree/data\")).value)\n",
    "console.log(\"chain: \", (await tree.resolve(\"/chain\")).value)"
   ]
  },
  {
   "cell_type": "markdown",
   "metadata": {},
   "source": [
    "Graphically:\n",
    "\n",
    "[![](https://mermaid.ink/img/eyJjb2RlIjoiY2xhc3NEaWFncmFtXG4gIFJvb3QgLi4gVHJlZVxuICBUcmVlIC4uIERhdGFcbiAgUm9vdCAuLiBDaGFpblxuICBjbGFzcyBSb290IHtcbiAgICBpZDogZGlkOnR1cGVsbzp4eHhcbiAgICBDSUQgZGF0YVxuICAgIENJRCBjaGFpblxuICB9XG4gIGNsYXNzIFRyZWUge1xuICAgIENJRCBkYXRhXG4gIH1cbiAgY2xhc3MgRGF0YSB7XG4gICAgZm9vOiBcImJhclwiXG4gIH1cbiAgXG4gIGNsYXNzIENoYWluIHtcbiAgICBDSUQgZW5kXG4gIH1cbiIsIm1lcm1haWQiOnsidGhlbWUiOiJkZWZhdWx0In0sInVwZGF0ZUVkaXRvciI6ZmFsc2V9)](https://mermaid-js.github.io/mermaid-live-editor/#/edit/eyJjb2RlIjoiY2xhc3NEaWFncmFtXG4gIFJvb3QgLi4gVHJlZVxuICBUcmVlIC4uIERhdGFcbiAgUm9vdCAuLiBDaGFpblxuICBjbGFzcyBSb290IHtcbiAgICBpZDogZGlkOnR1cGVsbzp4eHhcbiAgICBDSUQgZGF0YVxuICAgIENJRCBjaGFpblxuICB9XG4gIGNsYXNzIFRyZWUge1xuICAgIENJRCBkYXRhXG4gIH1cbiAgY2xhc3MgRGF0YSB7XG4gICAgZm9vOiBcImJhclwiXG4gIH1cbiAgXG4gIGNsYXNzIENoYWluIHtcbiAgICBDSUQgZW5kXG4gIH1cbiIsIm1lcm1haWQiOnsidGhlbWUiOiJkZWZhdWx0In0sInVwZGF0ZUVkaXRvciI6ZmFsc2V9)\n",
    "\n",
    "You see how the ChainTree now has values in both the tree section `tree/data` and has a new entry in the `chain` section? That's your transaction! We have also now registered this ChainTree with tupelo and so no one in the world can ever modify your ChainTree except you. You lucky duck.\n",
    "\n",
    "Let's introduce that `resolveData` method here. That's just a convenience method to start your path in `tree/data` rather than the root. We set the path \"/tree/data/foo\" above - you can easily get the same data back:"
   ]
  },
  {
   "cell_type": "code",
   "execution_count": 9,
   "metadata": {},
   "outputs": [
    {
     "name": "stdout",
     "output_type": "stream",
     "text": [
      "foo:  bar\n"
     ]
    }
   ],
   "source": [
    "const response = await tree.resolveData(\"/foo\")\n",
    "console.log(\"foo: \", response.value)"
   ]
  },
  {
   "cell_type": "code",
   "execution_count": null,
   "metadata": {},
   "outputs": [],
   "source": []
  }
 ],
 "metadata": {
  "kernelspec": {
   "display_name": "TypeScript",
   "language": "typescript",
   "name": "tslab"
  },
  "language_info": {
   "codemirror_mode": {
    "mode": "typescript",
    "name": "javascript",
    "typescript": true
   },
   "file_extension": ".ts",
   "mimetype": "text/typescript",
   "name": "typescript",
   "version": "3.7.2"
  }
 },
 "nbformat": 4,
 "nbformat_minor": 4
}
