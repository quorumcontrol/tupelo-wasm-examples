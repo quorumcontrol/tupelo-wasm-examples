{
 "cells": [
  {
   "cell_type": "code",
   "execution_count": 1,
   "metadata": {},
   "outputs": [],
   "source": [
    "// This is all just boilerplate, nothing to see here :).\n",
    "import * as tslab from 'tslab';\n",
    "import rimraf from 'rimraf';\n",
    "try {\n",
    "    rimraf.sync(\"./default\")\n",
    "} catch(e) {\n",
    "    // do nothing here\n",
    "}\n"
   ]
  },
  {
   "cell_type": "markdown",
   "metadata": {},
   "source": [
    "# Using Tupelo for Supply Chain\n",
    "\n",
    "This is a small demonstration of using Tupelo for supply chain. All supply chains are different and so this will be an idealized version.\n",
    "\n",
    "We'll model this out as a shipment of coffee from an amazing collective of womens coffee farmers and roasters through to a consumer in Germany.\n",
    "\n",
    "The basics are:\n",
    "\n",
    "* The beans are tended in the field by Farmers\n",
    "* The beans are harvested by Farmers\n",
    "* The beans are roasted by Roaster\n",
    "* The beans are collected into a shipping container by Shippers\n",
    "* The beans are displayed by a Retailer\n",
    "* The beans are purchased by a Consumer"
   ]
  },
  {
   "cell_type": "code",
   "execution_count": 2,
   "metadata": {},
   "outputs": [],
   "source": [
    "import { ChainTree, Community, EcdsaKey, setDataTransaction, setOwnershipTransaction, establishTokenTransaction, mintTokenTransaction, sendTokenTransaction, receiveTokenTransaction, receiveTokenTransactionFromPayload } from 'tupelo-wasm-sdk'\n",
    "import { v4 as uuidv4 } from 'uuid';\n"
   ]
  },
  {
   "cell_type": "markdown",
   "metadata": {},
   "source": [
    "## Networking & Community\n",
    "The Community object is how the local client talks to the network. You'll need one of these to play your transactions. There's a default (currently the testnet) provided for you.\n"
   ]
  },
  {
   "cell_type": "code",
   "execution_count": 3,
   "metadata": {},
   "outputs": [],
   "source": [
    "const community = await Community.getDefault()"
   ]
  },
  {
   "cell_type": "markdown",
   "metadata": {},
   "source": [
    "## Identity\n",
    "\n",
    "All of this starts with identity. Every organization and user will have a key and a ChainTree. Let's go create those now."
   ]
  },
  {
   "cell_type": "code",
   "execution_count": 4,
   "metadata": {},
   "outputs": [
    {
     "name": "stdout",
     "output_type": "stream",
     "text": [
      "{\n",
      "  farm: ChainTree {\n",
      "    tip: CID(bafyreihfgyerwu7q3q3hlvaylvyf2lshpopkytdmt62vkqiykoi35pncva),\n",
      "    dagStore: IPLDResolver {\n",
      "      bs: \u001b[36m[WrappedBlockService]\u001b[39m,\n",
      "      resolvers: \u001b[36m[Object]\u001b[39m,\n",
      "      loadFormat: \u001b[36m[Function (anonymous)]\u001b[39m\n",
      "    },\n",
      "    key: EcdsaKey { publicKey: \u001b[36m[Uint8Array]\u001b[39m, privateKey: \u001b[36m[Uint8Array]\u001b[39m },\n",
      "    store: WrappedBlockService { blockservice: \u001b[36m[BlockService]\u001b[39m }\n",
      "  },\n",
      "  shipper: ChainTree {\n",
      "    tip: CID(bafyreiapplhost4otdxd4mauvfz2eimaq6izpdonmwpuiorlefkwjjjg4e),\n",
      "    dagStore: IPLDResolver {\n",
      "      bs: \u001b[36m[WrappedBlockService]\u001b[39m,\n",
      "      resolvers: \u001b[36m[Object]\u001b[39m,\n",
      "      loadFormat: \u001b[36m[Function (anonymous)]\u001b[39m\n",
      "    },\n",
      "    key: EcdsaKey { publicKey: \u001b[36m[Uint8Array]\u001b[39m, privateKey: \u001b[36m[Uint8Array]\u001b[39m },\n",
      "    store: WrappedBlockService { blockservice: \u001b[36m[BlockService]\u001b[39m }\n",
      "  },\n",
      "  roaster: ChainTree {\n",
      "    tip: CID(bafyreieulcosjuz55kxuwa3z7djz5s2o7v4dhzctcnsbmei7kgpwju7cd4),\n",
      "    dagStore: IPLDResolver {\n",
      "      bs: \u001b[36m[WrappedBlockService]\u001b[39m,\n",
      "      resolvers: \u001b[36m[Object]\u001b[39m,\n",
      "      loadFormat: \u001b[36m[Function (anonymous)]\u001b[39m\n",
      "    },\n",
      "    key: EcdsaKey { publicKey: \u001b[36m[Uint8Array]\u001b[39m, privateKey: \u001b[36m[Uint8Array]\u001b[39m },\n",
      "    store: WrappedBlockService { blockservice: \u001b[36m[BlockService]\u001b[39m }\n",
      "  },\n",
      "  retailer: ChainTree {\n",
      "    tip: CID(bafyreiaermc7d7vahnsycbadn4bydsvsfwn7q4pcvev5klypuzjehhjb2i),\n",
      "    dagStore: IPLDResolver {\n",
      "      bs: \u001b[36m[WrappedBlockService]\u001b[39m,\n",
      "      resolvers: \u001b[36m[Object]\u001b[39m,\n",
      "      loadFormat: \u001b[36m[Function (anonymous)]\u001b[39m\n",
      "    },\n",
      "    key: EcdsaKey { publicKey: \u001b[36m[Uint8Array]\u001b[39m, privateKey: \u001b[36m[Uint8Array]\u001b[39m },\n",
      "    store: WrappedBlockService { blockservice: \u001b[36m[BlockService]\u001b[39m }\n",
      "  }\n",
      "}\n"
     ]
    }
   ],
   "source": [
    "let actorNames = [\"farm\", \"roaster\", \"shipper\", \"retailer\"]\n",
    "let actors:{[key:string]:ChainTree} = {}\n",
    "await Promise.all(actorNames.map(async (name:string)=> {\n",
    "    let key = await EcdsaKey.generate()\n",
    "    let tree = await ChainTree.newEmptyTree(community.blockservice, key)\n",
    "    actors[name] = tree\n",
    "}))\n",
    "console.log(actors)"
   ]
  },
  {
   "cell_type": "markdown",
   "metadata": {},
   "source": [
    "## Objects\n",
    "In any supply chain there are a variety of objects and you'll want to model them to your domain. In the coffee case we have:\n",
    "\n",
    "* A field\n",
    "* A basket of beans\n",
    "* A shipping container\n",
    "* A package of coffee\n",
    "\n",
    "We'll start with the field and update it with some information about the conditions."
   ]
  },
  {
   "cell_type": "code",
   "execution_count": 5,
   "metadata": {},
   "outputs": [
    {
     "name": "stdout",
     "output_type": "stream",
     "text": [
      "{ \u001b[32m'2020-04-17'\u001b[39m: \u001b[32m'rain'\u001b[39m }\n"
     ]
    }
   ],
   "source": [
    "const fieldKey = await EcdsaKey.generate()\n",
    "const fieldTree = await ChainTree.newEmptyTree(community.blockservice, fieldKey)\n",
    "\n",
    "await community.playTransactions(fieldTree,[\n",
    "    setDataTransaction(`updates/2020-04-17`, \"rain\"),\n",
    "    setDataTransaction(\"description\", \"The most organic field you've ever seen\"),\n",
    "])\n",
    "console.log((await fieldTree.resolveData(\"updates\")).value)"
   ]
  },
  {
   "cell_type": "markdown",
   "metadata": {},
   "source": [
    "Now we'll harvest the beans"
   ]
  },
  {
   "cell_type": "code",
   "execution_count": 6,
   "metadata": {},
   "outputs": [
    {
     "name": "stdout",
     "output_type": "stream",
     "text": [
      "{ \u001b[32m'2020-04-17'\u001b[39m: \u001b[32m'rain'\u001b[39m, \u001b[32m'2020-04-18'\u001b[39m: \u001b[32m'harvest'\u001b[39m }\n"
     ]
    }
   ],
   "source": [
    "await community.playTransactions(fieldTree, [setDataTransaction(`updates/2020-04-18`, \"harvest\")])\n",
    "console.log((await fieldTree.resolveData(\"updates\")).value)"
   ]
  },
  {
   "cell_type": "markdown",
   "metadata": {},
   "source": [
    "Now the farmers create a 60kg sack of green beans from the harvest. The farm will own this ChainTree so we'll do a new type of transaction: `setOwnershipTransaction`. They will also link it up to the harvesting field.\n"
   ]
  },
  {
   "cell_type": "code",
   "execution_count": 7,
   "metadata": {},
   "outputs": [
    {
     "name": "stdout",
     "output_type": "stream",
     "text": [
      "ownership:  [ \u001b[32m'0x094561C123c091A4c4F5b262E08fBBD1bcb5331B'\u001b[39m ]\n",
      "origin (field id):  did:tupelo:0x4eFD62299E7d54E62e1F4D26e5CD7700C10071Ad\n"
     ]
    }
   ],
   "source": [
    "const greenBeanTree = await ChainTree.newEmptyTree(community.blockservice, await EcdsaKey.generate())\n",
    "await community.playTransactions(greenBeanTree, [\n",
    "    setOwnershipTransaction([await actors[\"farm\"].key.address()]),\n",
    "    setDataTransaction(\"origin\", await fieldTree.id())\n",
    "])\n",
    "greenBeanTree.key = actors[\"farm\"].key\n",
    "console.log(\"ownership: \", (await greenBeanTree.resolve(\"tree/_tupelo/authentications\")).value)\n",
    "console.log(\"origin (field id): \", (await greenBeanTree.resolveData(\"origin\")).value)"
   ]
  },
  {
   "cell_type": "markdown",
   "metadata": {},
   "source": [
    "We're going to send it off to the roasters by changing the ownership and adding a delivery event."
   ]
  },
  {
   "cell_type": "code",
   "execution_count": 8,
   "metadata": {},
   "outputs": [
    {
     "name": "stdout",
     "output_type": "stream",
     "text": [
      "{ \u001b[32m'2020-04-18'\u001b[39m: \u001b[32m'delivery to roaster'\u001b[39m }\n"
     ]
    }
   ],
   "source": [
    "await community.playTransactions(greenBeanTree, [\n",
    "    setDataTransaction(\"events/2020-04-18\", \"delivery to roaster\"),\n",
    "    setOwnershipTransaction([await actors[\"roaster\"].key.address()])])\n",
    "greenBeanTree.key = actors[\"roaster\"].key\n",
    "console.log((await greenBeanTree.resolveData(\"events\")).value)\n"
   ]
  },
  {
   "cell_type": "markdown",
   "metadata": {},
   "source": [
    "The roaster roasts the sack of beans, packages them into 1kg bags and sends those bags to the shipper. We are going to use tokens to represent each 1kg of green beans becoming a 1kg packaged bag (with a QR code of the DID). In the real world we'd do one for each Kg, but to simplify here we're only going to do 5 of them."
   ]
  },
  {
   "cell_type": "code",
   "execution_count": 9,
   "metadata": {},
   "outputs": [
    {
     "name": "stdout",
     "output_type": "stream",
     "text": [
      "{\n",
      "  \u001b[32m'2020-04-18'\u001b[39m: \u001b[32m'delivery to roaster'\u001b[39m,\n",
      "  \u001b[32m'2020-04-19'\u001b[39m: \u001b[32m'out for delivery'\u001b[39m\n",
      "}\n"
     ]
    }
   ],
   "source": [
    "await community.playTransactions(greenBeanTree, [\n",
    "    setDataTransaction(\"events/2020-04-19\", \"out for delivery\"),\n",
    "    establishTokenTransaction(\"1kg\", 60), // the 60 here means that only 60 of these can ever be created\n",
    "    mintTokenTransaction(\"1kg\", 60), // mint all 60 of them\n",
    "    ])\n",
    "\n",
    "// token names are always prefixed by the chaintree that created them\n",
    "const canonicalName = (await greenBeanTree.id()) + \":\" + \"1kg\"\n",
    "\n",
    "let consumerBags = []\n",
    "\n",
    "for (let i = 0; i < 5; i++) { // only creating 5, but would be 60 in the real world\n",
    "    let bagTree = await ChainTree.newEmptyTree(community.blockservice, await EcdsaKey.generate())\n",
    "    consumerBags[i] = bagTree\n",
    "    let payload = await community.sendTokenAndGetPayload(greenBeanTree, sendTokenTransaction(uuidv4(), canonicalName, 1, await bagTree.id()))\n",
    "    \n",
    "    await community.playTransactions(bagTree, [\n",
    "        setOwnershipTransaction([await actors[\"shipper\"].key.address()]),\n",
    "        receiveTokenTransactionFromPayload(payload),\n",
    "        setDataTransaction(\"events/2020-04-19\", \"packaged\")\n",
    "    ])\n",
    "    bagTree.key = actors[\"shipper\"].key\n",
    "}\n",
    "// greenBeanTree.key = actors[\"shipper\"].key\n",
    "\n",
    "console.log((await greenBeanTree.resolveData(\"events\")).value)\n",
    "\n"
   ]
  },
  {
   "cell_type": "markdown",
   "metadata": {},
   "source": [
    "The shipper creates a manifest for the shipping container. In a real coffee supply chain the manifest would contain lots of the bags from above. "
   ]
  },
  {
   "cell_type": "code",
   "execution_count": 10,
   "metadata": {},
   "outputs": [
    {
     "name": "stdout",
     "output_type": "stream",
     "text": [
      "[\n",
      "  \u001b[32m'did:tupelo:0x3FAF459B7C3aff610A82864053B9A01BF3931E96'\u001b[39m,\n",
      "  \u001b[32m'did:tupelo:0x00A15Def0Eb4B8cd005Bc40dA3e463A716940A14'\u001b[39m,\n",
      "  \u001b[32m'did:tupelo:0xb9f64Ec5b2a96bB3E3e576aDa9ed49bb6985262C'\u001b[39m,\n",
      "  \u001b[32m'did:tupelo:0x8f51D57e0a027B40F5D7C47de94f6f60049Cd942'\u001b[39m,\n",
      "  \u001b[32m'did:tupelo:0x52a9EB752ed16A62A42D275f3eAD8981Ba314A65'\u001b[39m\n",
      "]\n"
     ]
    }
   ],
   "source": [
    "const containerTree = await ChainTree.newEmptyTree(community.blockservice, await EcdsaKey.generate())\n",
    "await community.playTransactions(containerTree, [\n",
    "    setOwnershipTransaction([await actors[\"shipper\"].key.address()]),\n",
    "    setDataTransaction(\"manifest\", await Promise.all(consumerBags.map(async (bag)=> {\n",
    "        return await bag.id()\n",
    "    })))\n",
    "])\n",
    "containerTree.key = actors[\"shipper\"].key\n",
    "console.log((await containerTree.resolveData(\"manifest\")).value)\n"
   ]
  },
  {
   "cell_type": "markdown",
   "metadata": {},
   "source": [
    "The retailer takes ownership of all these bags"
   ]
  },
  {
   "cell_type": "code",
   "execution_count": 11,
   "metadata": {},
   "outputs": [
    {
     "name": "stdout",
     "output_type": "stream",
     "text": [
      "retailer has it!\n"
     ]
    }
   ],
   "source": [
    "const retailerAddress = await actors[\"retailer\"].key.address()\n",
    "\n",
    "await Promise.all(consumerBags.map(async (bag)=> {\n",
    "        await community.playTransactions(bag, [\n",
    "            setOwnershipTransaction([retailerAddress]),\n",
    "            setDataTransaction(\"events/2020-04-20\", \"received in store\")\n",
    "        ])\n",
    "        bag.key = actors[\"retailer\"].key\n",
    "}))\n",
    "console.log(\"retailer has it!\")"
   ]
  },
  {
   "cell_type": "markdown",
   "metadata": {},
   "source": [
    "And now the consumer can get a full history of the object! We'll pick one of the bags above and pretend that a consumer has scanned the QR code:"
   ]
  },
  {
   "cell_type": "code",
   "execution_count": 12,
   "metadata": {},
   "outputs": [
    {
     "name": "stdout",
     "output_type": "stream",
     "text": [
      "{ \u001b[32m'2020-04-19'\u001b[39m: \u001b[32m'packaged'\u001b[39m, \u001b[32m'2020-04-20'\u001b[39m: \u001b[32m'received in store'\u001b[39m }\n",
      "{\n",
      "  \u001b[32m'2020-04-18'\u001b[39m: \u001b[32m'delivery to roaster'\u001b[39m,\n",
      "  \u001b[32m'2020-04-19'\u001b[39m: \u001b[32m'out for delivery'\u001b[39m\n",
      "}\n",
      "The most organic field you've ever seen\n",
      "{ \u001b[32m'2020-04-17'\u001b[39m: \u001b[32m'rain'\u001b[39m, \u001b[32m'2020-04-18'\u001b[39m: \u001b[32m'harvest'\u001b[39m }\n"
     ]
    }
   ],
   "source": [
    "let consumerBag = consumerBags[0]\n",
    "console.log((await consumerBag.resolveData(\"events\")).value)\n",
    "console.log((await greenBeanTree.resolveData(\"events\")).value)\n",
    "console.log((await fieldTree.resolveData(\"description\")).value)\n",
    "console.log((await fieldTree.resolveData(\"updates\")).value)"
   ]
  }
 ],
 "metadata": {
  "kernelspec": {
   "display_name": "TypeScript",
   "language": "typescript",
   "name": "tslab"
  },
  "language_info": {
   "codemirror_mode": {
    "mode": "typescript",
    "name": "javascript",
    "typescript": true
   },
   "file_extension": ".ts",
   "mimetype": "text/typescript",
   "name": "typescript",
   "version": "3.7.2"
  }
 },
 "nbformat": 4,
 "nbformat_minor": 4
}
